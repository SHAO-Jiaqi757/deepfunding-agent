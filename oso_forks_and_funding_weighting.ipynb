{
 "cells": [
  {
   "cell_type": "code",
   "execution_count": 1,
   "id": "81efdd86-cef4-4515-9188-247bd219552b",
   "metadata": {},
   "outputs": [],
   "source": [
    "from collections import defaultdict, Counter\n",
    "import json\n",
    "import networkx as nx\n",
    "import numpy as np\n",
    "import os\n",
    "import pandas as pd\n",
    "import sys\n",
    "\n",
    "from utils.validate_weights import validate_weights\n",
    "from utils.serialize_graph import convert_graph_to_serializable"
   ]
  },
  {
   "cell_type": "markdown",
   "id": "4785d475",
   "metadata": {},
   "source": [
    "# Load the unweighted graph"
   ]
  },
  {
   "cell_type": "code",
   "execution_count": 2,
   "id": "e307045b",
   "metadata": {},
   "outputs": [
    {
     "name": "stdout",
     "output_type": "stream",
     "text": [
      "Nodes: 255\n",
      "Edges: 444\n"
     ]
    }
   ],
   "source": [
    "with open(\"./graph/unweighted_graph_pruned_with_metadata.json\", \"r\") as f:\n",
    "    graph_data = json.load(f)\n",
    "\n",
    "G = nx.node_link_graph(graph_data, edges=\"links\")\n",
    "print(\"Nodes:\", len(G.nodes))\n",
    "repo_urls = [x for x in G.nodes]\n",
    "print(\"Edges:\", len(G.edges))"
   ]
  },
  {
   "cell_type": "code",
   "execution_count": 3,
   "id": "3a047f0a",
   "metadata": {},
   "outputs": [
    {
     "data": {
      "text/plain": [
       "{'https://github.com/prysmaticlabs/prysm': 0.0,\n",
       " 'https://github.com/ethereum/go-ethereum': 0.0,\n",
       " 'https://github.com/sigp/lighthouse': 0.0,\n",
       " 'https://github.com/consensys/teku': 0.0,\n",
       " 'https://github.com/status-im/nimbus-eth2': 0.0,\n",
       " 'https://github.com/chainsafe/lodestar': 0.0,\n",
       " 'https://github.com/ethereumjs/ethereumjs-monorepo': 0.0,\n",
       " 'https://github.com/grandinetech/grandine': 0.0,\n",
       " 'https://github.com/erigontech/erigon': 0.0,\n",
       " 'https://github.com/paradigmxyz/reth': 0.0,\n",
       " 'https://github.com/ethereum/solidity': 0.0,\n",
       " 'https://github.com/ethereum/remix-project': 0.0,\n",
       " 'https://github.com/vyperlang/vyper': 0.0,\n",
       " 'https://github.com/ethereum/web3.py': 0.0,\n",
       " 'https://github.com/ethereum/py-evm': 0.0,\n",
       " 'https://github.com/eth-infinitism/account-abstraction': 0.0,\n",
       " 'https://github.com/safe-global/safe-smart-account': 0.0,\n",
       " 'https://github.com/web3/web3.js': 0.0}"
      ]
     },
     "execution_count": 3,
     "metadata": {},
     "output_type": "execute_result"
    }
   ],
   "source": [
    "validate_weights(G)"
   ]
  },
  {
   "cell_type": "code",
   "execution_count": 4,
   "id": "e8b0eab1",
   "metadata": {},
   "outputs": [
    {
     "data": {
      "text/plain": [
       "Counter()"
      ]
     },
     "execution_count": 4,
     "metadata": {},
     "output_type": "execute_result"
    }
   ],
   "source": [
    "relations = [data['relation'] for _, _, data in G.edges(data=True) if 'relation' in data]\n",
    "pkg_relation_counts = Counter(relations)\n",
    "pkg_relation_counts"
   ]
  },
  {
   "cell_type": "markdown",
   "id": "744d790d",
   "metadata": {},
   "source": [
    "# Grab some repo-level and historical funding data\n",
    "\n",
    "- Subscribe to the OSO Production dataset on BigQuery (see docs [here](https://docs.opensource.observer/docs/get-started/bigquery))\n",
    "- Enter the following query into your [console](https://console.cloud.google.com/bigquery) to get a fresh copy of the graph\n",
    "- Save it as a CSV file to `datasets/oso/repo_and_funding_stats.csv`"
   ]
  },
  {
   "cell_type": "code",
   "execution_count": 5,
   "id": "4dce2931",
   "metadata": {},
   "outputs": [
    {
     "name": "stdout",
     "output_type": "stream",
     "text": [
      "\n",
      "    -- COPY THIS INTO YOUR BIGQUERY CONSOLE\n",
      "\n",
      "    with repos as (\n",
      "      select\n",
      "        project_id as oso_project_id,\n",
      "        artifact_url as url,\n",
      "        is_fork,\n",
      "        star_count,\n",
      "        fork_count,\n",
      "        license_name,\n",
      "        language,\n",
      "        created_at,\n",
      "        updated_at\n",
      "      from `oso_production.repositories_v0`\n",
      "    ),\n",
      "\n",
      "    gitcoin as (\n",
      "      select\n",
      "        oso_project_id,\n",
      "        sum(amount_in_usd) as gitcoin_grants_usd,\n",
      "        count(distinct donor_address) as unique_donors,\n",
      "        count(distinct round_number) as num_rounds\n",
      "      from `oso_production.gitcoin_funding_events_by_project_v0`\n",
      "      where oso_project_id is not null and donor_address is not null\n",
      "      group by oso_project_id\n",
      "    ),\n",
      "\n",
      "    retrofunding as (\n",
      "      select\n",
      "        p.project_id,\n",
      "        sum(f.amount) as retro_funding_usd,\n",
      "        count(distinct f.grant_pool_name) as num_retro_funding_rounds\n",
      "      from `static_data_sources.oss_funding_v1` f -- see: https://github.com/opensource-observer/oss-funding\n",
      "      join `oso_production.projects_v1` p\n",
      "        on f.to_project_name = p.project_name\n",
      "      where\n",
      "        f.grant_pool_name like '%retro%'\n",
      "        and f.from_funder_name = 'optimism'\n",
      "      group by p.project_id\n",
      "    )\n",
      "\n",
      "    select\n",
      "      repos.url,\n",
      "      repos.star_count,\n",
      "      repos.fork_count,\n",
      "      repos.is_fork,\n",
      "      repos.language,\n",
      "      repos.license_name,\n",
      "      repos.created_at,\n",
      "      repos.updated_at,\n",
      "      coalesce(gitcoin.gitcoin_grants_usd, 0) as gitcoin_grants_usd,\n",
      "      coalesce(gitcoin.unique_donors, 0) as gitcoin_unique_donors,\n",
      "      coalesce(gitcoin.num_rounds, 0) as gitcoin_num_rounds,\n",
      "      coalesce(retrofunding.retro_funding_usd, 0) as retro_funding_usd,\n",
      "      coalesce(retrofunding.num_retro_funding_rounds, 0) as num_retro_funding_rounds,\n",
      "      repos.oso_project_id\n",
      "    from repos\n",
      "    left join gitcoin\n",
      "      on repos.oso_project_id = gitcoin.oso_project_id\n",
      "    left join retrofunding\n",
      "      on repos.oso_project_id = retrofunding.project_id\n",
      "    \n",
      "    -- Add the list of relevant repo_urls as a where clause\n",
      "\n"
     ]
    }
   ],
   "source": [
    "def stringify_array(arr):\n",
    "    return \"'\" + \"','\".join(arr) + \"'\"\n",
    "\n",
    "query = f\"\"\"\n",
    "    -- COPY THIS INTO YOUR BIGQUERY CONSOLE\n",
    "\n",
    "    with repos as (\n",
    "      select\n",
    "        project_id as oso_project_id,\n",
    "        artifact_url as url,\n",
    "        is_fork,\n",
    "        star_count,\n",
    "        fork_count,\n",
    "        license_name,\n",
    "        language,\n",
    "        created_at,\n",
    "        updated_at\n",
    "      from `oso_production.repositories_v0`\n",
    "    ),\n",
    "\n",
    "    gitcoin as (\n",
    "      select\n",
    "        oso_project_id,\n",
    "        sum(amount_in_usd) as gitcoin_grants_usd,\n",
    "        count(distinct donor_address) as unique_donors,\n",
    "        count(distinct round_number) as num_rounds\n",
    "      from `oso_production.gitcoin_funding_events_by_project_v0`\n",
    "      where oso_project_id is not null and donor_address is not null\n",
    "      group by oso_project_id\n",
    "    ),\n",
    "\n",
    "    retrofunding as (\n",
    "      select\n",
    "        p.project_id,\n",
    "        sum(f.amount) as retro_funding_usd,\n",
    "        count(distinct f.grant_pool_name) as num_retro_funding_rounds\n",
    "      from `static_data_sources.oss_funding_v1` f -- see: https://github.com/opensource-observer/oss-funding\n",
    "      join `oso_production.projects_v1` p\n",
    "        on f.to_project_name = p.project_name\n",
    "      where\n",
    "        f.grant_pool_name like '%retro%'\n",
    "        and f.from_funder_name = 'optimism'\n",
    "      group by p.project_id\n",
    "    )\n",
    "\n",
    "    select\n",
    "      repos.url,\n",
    "      repos.star_count,\n",
    "      repos.fork_count,\n",
    "      repos.is_fork,\n",
    "      repos.language,\n",
    "      repos.license_name,\n",
    "      repos.created_at,\n",
    "      repos.updated_at,\n",
    "      coalesce(gitcoin.gitcoin_grants_usd, 0) as gitcoin_grants_usd,\n",
    "      coalesce(gitcoin.unique_donors, 0) as gitcoin_unique_donors,\n",
    "      coalesce(gitcoin.num_rounds, 0) as gitcoin_num_rounds,\n",
    "      coalesce(retrofunding.retro_funding_usd, 0) as retro_funding_usd,\n",
    "      coalesce(retrofunding.num_retro_funding_rounds, 0) as num_retro_funding_rounds,\n",
    "      repos.oso_project_id\n",
    "    from repos\n",
    "    left join gitcoin\n",
    "      on repos.oso_project_id = gitcoin.oso_project_id\n",
    "    left join retrofunding\n",
    "      on repos.oso_project_id = retrofunding.project_id\n",
    "    \n",
    "    -- Add the list of relevant repo_urls as a where clause\n",
    "\"\"\"\n",
    "#query += f\"    where url in ({stringify_array(repo_urls)})\"\n",
    "print(query)"
   ]
  },
  {
   "cell_type": "code",
   "execution_count": 6,
   "id": "fb2bb20a",
   "metadata": {},
   "outputs": [],
   "source": [
    "# load the data and transform it a bit\n",
    "# metrics_df = pd.read_csv('./datasets/oso/repo_and_funding_stats.csv', index_col=0)\n",
    "\n",
    "# funding_averages = (\n",
    "#     metrics_df\n",
    "#     .groupby('oso_project_id')\n",
    "#     [['gitcoin_grants_usd', 'retro_funding_usd']]\n",
    "#     .transform('mean')\n",
    "# )\n",
    "# metrics_df['gitcoin_grants_usd'] = funding_averages['gitcoin_grants_usd']\n",
    "# metrics_df['retro_funding_usd'] = funding_averages['retro_funding_usd']\n",
    "\n",
    "# # print(\"Metric totals:\")\n",
    "# # for c in metrics_df.columns:\n",
    "# #     if metrics_df[c].dtype != 'O':\n",
    "# #         print(f\"- {c}: {metrics_df[c].sum():,.0f}\")\n",
    "\n",
    "# metrics_df"
   ]
  },
  {
   "cell_type": "code",
   "execution_count": 7,
   "id": "9c642fef",
   "metadata": {},
   "outputs": [],
   "source": [
    "# add these variables as attributes in our graph\n",
    "\n",
    "# for node in G.nodes():\n",
    "#     if node in metrics_df.index:\n",
    "#         for col in metrics_df.columns:\n",
    "#             G.nodes[node][col] = metrics_df.at[node, col]\n",
    "#     else:\n",
    "#         for col in metrics_df.columns:\n",
    "#             G.nodes[node][col] = 0\n",
    "\n",
    "# sample_node = list(G.nodes())[4]\n",
    "# attrs = G.nodes[sample_node]\n",
    "# print(\"Node attributes for\", sample_node)\n",
    "# for k,v in attrs.items():\n",
    "#     print(f\"-{k}: {v}\")"
   ]
  },
  {
   "cell_type": "markdown",
   "id": "df291d00",
   "metadata": {},
   "source": [
    "# AI Agent to weight the graph"
   ]
  },
  {
   "cell_type": "code",
   "execution_count": 8,
   "id": "8e8ade35",
   "metadata": {},
   "outputs": [
    {
     "name": "stdout",
     "output_type": "stream",
     "text": [
      "Weighting all pairs of dependencies for Seed node: https://github.com/prysmaticlabs/prysm\n",
      "Comparing https://github.com/mmcloughlin/addchain and https://github.com/ipfs/go-cid\n",
      "{'level': 2, 'language': 'Go', 'status': 'indexed', 'isFork': False, 'createdAt': '2020-01-31', 'updatedAt': '2024-12-01', 'starCount': 187, 'forkCount': 14, 'numPackages': 1, 'numDependentsInOso': 148, 'listOfFunders': ['Open Collective'], 'totalFundingUsd': 10000.39, 'totalFundingUsdSince2023': 0.0, 'osoDependencyRank': 0.2885600455321571, 'numReposInSameLanguage': 325, 'osoDependencyRankForLanguage': 0.7746913580246914, 'url': 'https://github.com/mmcloughlin/addchain'}\n",
      "{'level': 2, 'language': 'Go', 'status': 'indexed', 'isFork': False, 'createdAt': '2016-08-23', 'updatedAt': '2024-12-12', 'starCount': 157, 'forkCount': 47, 'numPackages': 1, 'numDependentsInOso': 165, 'listOfFunders': ['Optimism', 'Gitcoin'], 'totalFundingUsd': 791769.407770362, 'totalFundingUsdSince2023': 791769.407770362, 'osoDependencyRank': 0.3164484917472965, 'numReposInSameLanguage': 325, 'osoDependencyRankForLanguage': 0.8641975308641975, 'url': 'https://github.com/ipfs/go-cid'}\n",
      "Initial state: {'messages': [], 'repo_a': {'level': 2, 'language': 'Go', 'status': 'indexed', 'isFork': False, 'createdAt': '2020-01-31', 'updatedAt': '2024-12-01', 'starCount': 187, 'forkCount': 14, 'numPackages': 1, 'numDependentsInOso': 148, 'listOfFunders': ['Open Collective'], 'totalFundingUsd': 10000.39, 'totalFundingUsdSince2023': 0.0, 'osoDependencyRank': 0.2885600455321571, 'numReposInSameLanguage': 325, 'osoDependencyRankForLanguage': 0.7746913580246914, 'url': 'https://github.com/mmcloughlin/addchain'}, 'repo_b': {'level': 2, 'language': 'Go', 'status': 'indexed', 'isFork': False, 'createdAt': '2016-08-23', 'updatedAt': '2024-12-12', 'starCount': 157, 'forkCount': 47, 'numPackages': 1, 'numDependentsInOso': 165, 'listOfFunders': ['Optimism', 'Gitcoin'], 'totalFundingUsd': 791769.407770362, 'totalFundingUsdSince2023': 791769.407770362, 'osoDependencyRank': 0.3164484917472965, 'numReposInSameLanguage': 325, 'osoDependencyRankForLanguage': 0.8641975308641975, 'url': 'https://github.com/ipfs/go-cid'}, 'analysis': {}, 'phase': 'collect'}\n",
      "Raw event: {'metrics_collector': {'messages': [HumanMessage(content=\"Here's a comprehensive analysis of the GitHub repository [addchain](https://github.com/mmcloughlin/addchain):\\n\\n### Repository Overview\\n- **Name**: addchain\\n- **Owner**: mmcloughlin\\n- **Language**: Go\\n- **Repository Status**: Indexed\\n- **Forked**: No\\n- **Created At**: January 31, 2020\\n- **Last Updated At**: December 1, 2024\\n\\n### Activity Metrics\\n- **Stars**: 187\\n  - Indicates a moderate level of interest and approval from the community. A higher star count can suggest a well-regarded project.\\n- **Forks**: 14\\n  - A relatively low number of forks indicates that while the project is appreciated, it may not be widely adapted for personal or organizational use.\\n- **Number of Packages**: 1\\n  - The repository contains one package, suggesting it focuses on a specific functionality or feature.\\n- **Number of Dependents in Oso**: 148\\n  - This metric indicates that the package is being used in 148 other projects within the Oso ecosystem, showcasing its utility and integration in the broader software landscape.\\n\\n### Funding Information\\n- **List of Funders**: Open Collective\\n- **Total Funding (USD)**: $10,000.39\\n  - This indicates financial support for the project, which can be critical for ongoing development and maintenance.\\n- **Total Funding Since 2023 (USD)**: $0.00\\n  - There has been no new funding recorded for 2023, which may suggest a need for renewed funding efforts or a stable financial situation based on past support.\\n\\n### Dependency Analysis\\n- **Oso Dependency Rank**: 0.2886\\n  - This rank provides insight into how critical this repository is within the Oso ecosystem. A lower rank indicates a lesser degree of dependency on this repository by others.\\n- **Number of Repositories in Same Language**: 325\\n  - There are 325 repositories using the Go programming language, suggesting a competitive landscape for Go-based projects.\\n- **Oso Dependency Rank for Language**: 0.7747\\n  - This rank indicates the repository's importance relative to others in the Go language. A higher rank suggests that it has more dependencies compared to other Go projects.\\n\\n### Conclusion\\nThe addchain repository is a moderately popular Go project with a solid number of stars and a significant number of dependents in the Oso ecosystem. The project has received funding, although there has been no new funding in the recent year. The repository is not a fork and has a dedicated following, which can be indicative of its stability and reliability within its niche. Overall, addchain appears to be a valuable and well-integrated project within its relevant ecosystems but may benefit from increased visibility and further funding to sustain development.\", additional_kwargs={}, response_metadata={}, name='metrics_collector', id='c4ae6f30-eb0e-45b5-a90b-5edf239bebe4'), HumanMessage(content=\"Here's a comprehensive analysis of the repository located at [https://github.com/ipfs/go-cid](https://github.com/ipfs/go-cid):\\n\\n### General Information\\n- **Repository Name**: go-cid\\n- **Owner**: IPFS (InterPlanetary File System)\\n- **Creation Date**: August 23, 2016\\n- **Last Updated**: December 12, 2024\\n- **Programming Language**: Go\\n- **Forked**: No (This repository is not a fork)\\n- **Status**: Indexed (The repository is indexed and can be searched)\\n\\n### Metrics Overview\\n- **Stars**: 157\\n  - Indicates a moderate level of interest from the GitHub community.\\n- **Forks**: 47\\n  - Suggests that other developers are interested in modifying or using this repository for their purposes.\\n- **Number of Packages**: 1\\n  - This repository contains a single Go package.\\n- **Number of Dependents in Oso**: 165\\n  - This indicates that 165 other projects depend on this repository, highlighting its importance in the ecosystem.\\n\\n### Funding Information\\n- **List of Funders**: \\n  - Optimism\\n  - Gitcoin\\n- **Total Funding**: $791,769.41 \\n  - This is the total amount of funding received by the project.\\n- **Total Funding Since 2023**: $791,769.41 \\n  - Indicates that all recorded funding has come in during 2023.\\n  \\n### Dependency Metrics\\n- **Oso Dependency Rank**: 0.3164\\n  - This metric indicates how critical this repository is among its dependencies.\\n- **Number of Repositories in Same Language**: 325\\n  - This is the total number of repositories written in Go in the same ecosystem or organization.\\n- **Oso Dependency Rank for Language**: 0.8642\\n  - This indicates that the repository holds a strong position in terms of dependency importance within the Go language community.\\n\\n### Summary\\nThe `go-cid` repository is a significant project within the IPFS ecosystem, written in Go. It has gained a respectable amount of attention with 157 stars and 47 forks, indicating a solid level of interest and usability. Its 165 dependents in the Oso ecosystem illustrate its importance and utility in other projects. The funding it has received from notable entities such as Optimism and Gitcoin further emphasizes its value and support from the community.\\n\\nOverall, the `go-cid` repository appears to be a well-maintained project that plays a crucial role in the IPFS ecosystem and the broader Go programming community. It is actively developed, as indicated by its recent update in December 2024.\", additional_kwargs={}, response_metadata={}, name='metrics_collector', id='b62b1e8e-1168-40a2-bc47-5bdf99b34f0c')], 'repo_a': {'level': 2, 'language': 'Go', 'status': 'indexed', 'isFork': False, 'createdAt': '2020-01-31', 'updatedAt': '2024-12-01', 'starCount': 187, 'forkCount': 14, 'numPackages': 1, 'numDependentsInOso': 148, 'listOfFunders': ['Open Collective'], 'totalFundingUsd': 10000.39, 'totalFundingUsdSince2023': 0.0, 'osoDependencyRank': 0.2885600455321571, 'numReposInSameLanguage': 325, 'osoDependencyRankForLanguage': 0.7746913580246914, 'url': 'https://github.com/mmcloughlin/addchain', 'metrics': HumanMessage(content=\"Here's a comprehensive analysis of the GitHub repository [addchain](https://github.com/mmcloughlin/addchain):\\n\\n### Repository Overview\\n- **Name**: addchain\\n- **Owner**: mmcloughlin\\n- **Language**: Go\\n- **Repository Status**: Indexed\\n- **Forked**: No\\n- **Created At**: January 31, 2020\\n- **Last Updated At**: December 1, 2024\\n\\n### Activity Metrics\\n- **Stars**: 187\\n  - Indicates a moderate level of interest and approval from the community. A higher star count can suggest a well-regarded project.\\n- **Forks**: 14\\n  - A relatively low number of forks indicates that while the project is appreciated, it may not be widely adapted for personal or organizational use.\\n- **Number of Packages**: 1\\n  - The repository contains one package, suggesting it focuses on a specific functionality or feature.\\n- **Number of Dependents in Oso**: 148\\n  - This metric indicates that the package is being used in 148 other projects within the Oso ecosystem, showcasing its utility and integration in the broader software landscape.\\n\\n### Funding Information\\n- **List of Funders**: Open Collective\\n- **Total Funding (USD)**: $10,000.39\\n  - This indicates financial support for the project, which can be critical for ongoing development and maintenance.\\n- **Total Funding Since 2023 (USD)**: $0.00\\n  - There has been no new funding recorded for 2023, which may suggest a need for renewed funding efforts or a stable financial situation based on past support.\\n\\n### Dependency Analysis\\n- **Oso Dependency Rank**: 0.2886\\n  - This rank provides insight into how critical this repository is within the Oso ecosystem. A lower rank indicates a lesser degree of dependency on this repository by others.\\n- **Number of Repositories in Same Language**: 325\\n  - There are 325 repositories using the Go programming language, suggesting a competitive landscape for Go-based projects.\\n- **Oso Dependency Rank for Language**: 0.7747\\n  - This rank indicates the repository's importance relative to others in the Go language. A higher rank suggests that it has more dependencies compared to other Go projects.\\n\\n### Conclusion\\nThe addchain repository is a moderately popular Go project with a solid number of stars and a significant number of dependents in the Oso ecosystem. The project has received funding, although there has been no new funding in the recent year. The repository is not a fork and has a dedicated following, which can be indicative of its stability and reliability within its niche. Overall, addchain appears to be a valuable and well-integrated project within its relevant ecosystems but may benefit from increased visibility and further funding to sustain development.\", additional_kwargs={}, response_metadata={}, name='metrics_collector')}, 'repo_b': {'level': 2, 'language': 'Go', 'status': 'indexed', 'isFork': False, 'createdAt': '2016-08-23', 'updatedAt': '2024-12-12', 'starCount': 157, 'forkCount': 47, 'numPackages': 1, 'numDependentsInOso': 165, 'listOfFunders': ['Optimism', 'Gitcoin'], 'totalFundingUsd': 791769.407770362, 'totalFundingUsdSince2023': 791769.407770362, 'osoDependencyRank': 0.3164484917472965, 'numReposInSameLanguage': 325, 'osoDependencyRankForLanguage': 0.8641975308641975, 'url': 'https://github.com/ipfs/go-cid', 'metrics': HumanMessage(content=\"Here's a comprehensive analysis of the repository located at [https://github.com/ipfs/go-cid](https://github.com/ipfs/go-cid):\\n\\n### General Information\\n- **Repository Name**: go-cid\\n- **Owner**: IPFS (InterPlanetary File System)\\n- **Creation Date**: August 23, 2016\\n- **Last Updated**: December 12, 2024\\n- **Programming Language**: Go\\n- **Forked**: No (This repository is not a fork)\\n- **Status**: Indexed (The repository is indexed and can be searched)\\n\\n### Metrics Overview\\n- **Stars**: 157\\n  - Indicates a moderate level of interest from the GitHub community.\\n- **Forks**: 47\\n  - Suggests that other developers are interested in modifying or using this repository for their purposes.\\n- **Number of Packages**: 1\\n  - This repository contains a single Go package.\\n- **Number of Dependents in Oso**: 165\\n  - This indicates that 165 other projects depend on this repository, highlighting its importance in the ecosystem.\\n\\n### Funding Information\\n- **List of Funders**: \\n  - Optimism\\n  - Gitcoin\\n- **Total Funding**: $791,769.41 \\n  - This is the total amount of funding received by the project.\\n- **Total Funding Since 2023**: $791,769.41 \\n  - Indicates that all recorded funding has come in during 2023.\\n  \\n### Dependency Metrics\\n- **Oso Dependency Rank**: 0.3164\\n  - This metric indicates how critical this repository is among its dependencies.\\n- **Number of Repositories in Same Language**: 325\\n  - This is the total number of repositories written in Go in the same ecosystem or organization.\\n- **Oso Dependency Rank for Language**: 0.8642\\n  - This indicates that the repository holds a strong position in terms of dependency importance within the Go language community.\\n\\n### Summary\\nThe `go-cid` repository is a significant project within the IPFS ecosystem, written in Go. It has gained a respectable amount of attention with 157 stars and 47 forks, indicating a solid level of interest and usability. Its 165 dependents in the Oso ecosystem illustrate its importance and utility in other projects. The funding it has received from notable entities such as Optimism and Gitcoin further emphasizes its value and support from the community.\\n\\nOverall, the `go-cid` repository appears to be a well-maintained project that plays a crucial role in the IPFS ecosystem and the broader Go programming community. It is actively developed, as indicated by its recent update in December 2024.\", additional_kwargs={}, response_metadata={}, name='metrics_collector')}, 'phase': 'analyze'}}\n",
      "Current phase: analyze\n",
      "Raw event: {'supervisor': None}\n",
      "Current phase: \n",
      "Raw event: {'project_analyzer': {'messages': [HumanMessage(content=\"Project Analyzer: Based on the detailed analysis of both open-source projects, `addchain` and `go-cid`, we can assess their health and sustainability using the outlined metrics. \\n\\n### Evaluation Metrics\\n\\n1. **Stars & Forks**: \\n   - **addchain**: 187 stars, 14 forks\\n   - **go-cid**: 157 stars, 47 forks\\n   - *Interpretation*: While `addchain` has more stars, `go-cid` has significantly more forks, indicating broader interest in adaptation and usage.\\n\\n2. **Dependents**: \\n   - **addchain**: 148 dependents in Oso\\n   - **go-cid**: 165 dependents in Oso\\n   - *Interpretation*: `go-cid` has a higher number of dependents, suggesting it plays a more critical role in the ecosystem.\\n\\n3. **Funding**:\\n   - **addchain**: $10,000.39 total funding, with no new funding since 2023.\\n   - **go-cid**: $791,769.41 total funding, all received in 2023.\\n   - *Interpretation*: `go-cid` has significantly more funding, which is crucial for long-term sustainability.\\n\\n4. **Dependency Rank**:\\n   - **addchain**: Oso Dependency Rank 0.2886\\n   - **go-cid**: Oso Dependency Rank 0.3164\\n   - *Interpretation*: Both projects have similar dependency ranks, but `go-cid` is slightly more critical in its ecosystem.\\n\\n5. **Recent Activity**:\\n   - **addchain**: Last updated on December 1, 2024.\\n   - **go-cid**: Last updated on December 12, 2024.\\n   - *Interpretation*: Both projects are actively maintained, but `go-cid` was updated more recently.\\n\\n### Conclusion\\nWhile both projects have their strengths, `go-cid` demonstrates a more robust health and sustainability profile due to its higher number of forks, greater funding, and a larger number of dependents within the ecosystem. `addchain` has a solid community interest but may struggle with sustainability due to a lack of recent funding.\\n\\n### Relative Weights\\nBased on the overall assessment, we can assign relative weights reflecting their viability and sustainability:\\n\\n- **addchain**: 0.4\\n- **go-cid**: 0.6\\n\\nThis distribution takes into account `go-cid`'s superior funding, broader usage, and critical dependency role, making it a more viable option for long-term sustainability in the open-source ecosystem.\", additional_kwargs={}, response_metadata={}, name='project_analyzer', id='ff95e1fc-6b95-437f-a977-81b886f7884e')], 'phase': 'analyze'}}\n",
      "Current phase: analyze\n",
      "Raw event: {'supervisor': None}\n",
      "Current phase: \n",
      "Raw event: {'funding_strategist': {'messages': [HumanMessage(content=\"Funding Strategist: Based on the comprehensive analyses provided for both projects, `addchain` and `go-cid`, the relative weights reflecting their viability and sustainability in the open-source ecosystem are as follows:\\n\\n- **addchain**: 0.4\\n- **go-cid**: 0.6\\n\\nThis distribution considers the following factors:\\n\\n1. **Popularity and Community Interest**: While `addchain` has more stars, `go-cid` has a significantly higher number of forks, indicating a broader interest in its adaptation and use.\\n\\n2. **Ecosystem Impact**: `go-cid` has more dependents (165 compared to `addchain`'s 148), suggesting it plays a more critical role within its ecosystem.\\n\\n3. **Funding and Sustainability**: The substantial funding received by `go-cid` ($791,769.41) compared to `addchain` ($10,000.39), especially with all funding for `go-cid` being recent, positions it for better long-term sustainability.\\n\\n4. **Dependency Importance**: Both repositories have similar Oso dependency ranks, but `go-cid` ranks slightly higher, indicating it is more critical to its ecosystem.\\n\\n5. **Recent Activity**: Both projects are actively maintained, but `go-cid` has a more recent update, reinforcing its status as a vital resource.\\n\\nIn conclusion, `go-cid` is prioritized for funding and resources due to its overall stronger metrics, while `addchain`, although valuable, may need to enhance its funding strategies and community engagement for long-term viability.\", additional_kwargs={}, response_metadata={}, name='funding_strategist', id='beec435c-7475-4aae-af0e-3f32b667cdd0')], 'phase': 'analyze'}}\n",
      "Current phase: analyze\n",
      "Raw event: {'supervisor': None}\n",
      "Current phase: \n",
      "Raw event: {'community_advocate': {'messages': [HumanMessage(content=\"Community Advocate: Based on the comprehensive evaluations and insights from both the Project Analyzer and Funding Strategist, we arrive at the following relative weights for the projects `addchain` and `go-cid`:\\n\\n- **addchain**: 0.4\\n- **go-cid**: 0.6\\n\\nThis weight distribution reflects `go-cid`'s superior sustainability metrics, including its significant funding, broader community engagement as evidenced by the higher number of forks and dependents, and its critical role within the ecosystem. In contrast, while `addchain` demonstrates community interest, it faces challenges regarding funding and adaptability that may impact its long-term viability. \\n\\nThis allocation ensures that funding decisions align with community needs and promote transparency in supporting projects that exhibit strong engagement and sustainability potential.\", additional_kwargs={}, response_metadata={}, name='community_advocate', id='807de80c-abb1-4d00-a350-d65722521377')], 'phase': 'analyze'}}\n",
      "Current phase: analyze\n",
      "Raw event: {'supervisor': None}\n",
      "Current phase: \n",
      "Raw event: {'validator': {'messages': [HumanMessage(content='{\"validation\": \"The analyses from the Project Analyzer, Funding Strategist, and Community Advocate are comprehensive, covering project health, funding strategy, and community engagement with sufficient depth. Each analysis includes relevant metrics and interpretations that support the conclusion that `go-cid` is the stronger project in terms of sustainability and community impact. The conclusions are well-justified by concrete metrics such as funding amounts, number of stars and forks, and dependency ranks. Additionally, the recommendations for funding decisions are clear and actionable, prioritizing `go-cid` for funding while suggesting that `addchain` improve its funding strategies and community engagement. No specific revisions are needed as all aspects meet the criteria for being comprehensive, well-justified, and actionable.\", \"weights\": {\"https://github.com/mmcloughlin/addchain\": 0.4, \"https://github.com/ipfs/go-cid\": 0.6}}', additional_kwargs={}, response_metadata={}, name='validator', id='9dde9821-831b-44a5-8197-ab8e4f3dc8a9')], 'analysis': {'weights': {'https://github.com/mmcloughlin/addchain': 0.4, 'https://github.com/ipfs/go-cid': 0.6}, 'validation': 'The analyses from the Project Analyzer, Funding Strategist, and Community Advocate are comprehensive, covering project health, funding strategy, and community engagement with sufficient depth. Each analysis includes relevant metrics and interpretations that support the conclusion that `go-cid` is the stronger project in terms of sustainability and community impact. The conclusions are well-justified by concrete metrics such as funding amounts, number of stars and forks, and dependency ranks. Additionally, the recommendations for funding decisions are clear and actionable, prioritizing `go-cid` for funding while suggesting that `addchain` improve its funding strategies and community engagement. No specific revisions are needed as all aspects meet the criteria for being comprehensive, well-justified, and actionable.', 'final': True}, 'phase': 'complete'}}\n",
      "Current phase: complete\n",
      "Comparison complete!\n",
      "Analysis results: {'weights': {'https://github.com/mmcloughlin/addchain': 0.4, 'https://github.com/ipfs/go-cid': 0.6}, 'validation': 'The analyses from the Project Analyzer, Funding Strategist, and Community Advocate are comprehensive, covering project health, funding strategy, and community engagement with sufficient depth. Each analysis includes relevant metrics and interpretations that support the conclusion that `go-cid` is the stronger project in terms of sustainability and community impact. The conclusions are well-justified by concrete metrics such as funding amounts, number of stars and forks, and dependency ranks. Additionally, the recommendations for funding decisions are clear and actionable, prioritizing `go-cid` for funding while suggesting that `addchain` improve its funding strategies and community engagement. No specific revisions are needed as all aspects meet the criteria for being comprehensive, well-justified, and actionable.', 'final': True}\n",
      "Final results: {'weights': {'https://github.com/mmcloughlin/addchain': 0.4, 'https://github.com/ipfs/go-cid': 0.6}, 'explanation': 'The analyses from the Project Analyzer, Funding Strategist, and Community Advocate are comprehensive, covering project health, funding strategy, and community engagement with sufficient depth. Each analysis includes relevant metrics and interpretations that support the conclusion that `go-cid` is the stronger project in terms of sustainability and community impact. The conclusions are well-justified by concrete metrics such as funding amounts, number of stars and forks, and dependency ranks. Additionally, the recommendations for funding decisions are clear and actionable, prioritizing `go-cid` for funding while suggesting that `addchain` improve its funding strategies and community engagement. No specific revisions are needed as all aspects meet the criteria for being comprehensive, well-justified, and actionable.', 'trace_url': None}\n"
     ]
    }
   ],
   "source": [
    "from deepfunding import run_comparison\n",
    "\n",
    "for seed_node, node_data in G.nodes(data=True):\n",
    "    if node_data.get('level') != 1:\n",
    "        continue\n",
    "    print(f\"Weighting all pairs of dependencies for Seed node: {seed_node}\")\n",
    "    dependencies = list(G.successors(seed_node))\n",
    "\n",
    "    # Iterate through all pairs of dependencies\n",
    "    for i, dep1 in enumerate(dependencies[10:]):\n",
    "        for dep2 in dependencies[i+1:]:\n",
    "            print(f\"Comparing {dep1} and {dep2}\")\n",
    "            G.nodes[dep1]['url'] = dep1\n",
    "            G.nodes[dep2]['url'] = dep2\n",
    "            print(G.nodes[dep1])\n",
    "            print(G.nodes[dep2])\n",
    "            run_comparison(G.nodes[dep1], G.nodes[dep2])\n",
    "            break\n",
    "        break\n",
    "\n",
    "    break\n"
   ]
  },
  {
   "cell_type": "markdown",
   "id": "c16e23fc",
   "metadata": {},
   "source": [
    "# Apply a basic weighting algorithm"
   ]
  },
  {
   "cell_type": "code",
   "execution_count": 8,
   "id": "e2a805a4",
   "metadata": {},
   "outputs": [],
   "source": [
    "total_weight_cap = 0.8\n",
    "max_edge_weight = 0.2\n",
    "\n",
    "max_gitcoin = max(nx.get_node_attributes(G, 'gitcoin_grants_usd').values(), default=1)\n",
    "max_retro = max(nx.get_node_attributes(G, 'retro_funding_usd').values(), default=1)\n",
    "max_forks = max(nx.get_node_attributes(G, 'fork_count').values(), default=1)\n",
    "\n",
    "for seed_node, node_data in G.nodes(data=True):\n",
    "    if node_data.get('level') != 1:\n",
    "        continue\n",
    "\n",
    "    dependencies = list(G.successors(seed_node))\n",
    "    weights = []\n",
    "\n",
    "    # Step 1: Calculate raw weights with language check\n",
    "    for dep in dependencies:\n",
    "        seed_language = G.nodes[seed_node].get('language', None)\n",
    "        if seed_language in ['JavaScript', 'TypeScript', 'Python', 'Rust', 'Go']:\n",
    "            dep_language = G.nodes[dep].get('language', None)\n",
    "            if seed_language != dep_language:\n",
    "                weights.append((dep, 0.0))\n",
    "                continue\n",
    "\n",
    "        gitcoin = G.nodes[dep].get('gitcoin_grants_usd', 0) / max_gitcoin\n",
    "        retro = G.nodes[dep].get('retro_funding_usd', 0) / max_retro\n",
    "        forks = G.nodes[dep].get('fork_count', 0)\n",
    "        if forks:\n",
    "            forks = np.log(forks) / np.log(max_forks)\n",
    "\n",
    "        raw_weight = 0.4 * gitcoin + 0.4 * retro + 0.2 * forks\n",
    "        weights.append((dep, raw_weight))\n",
    "\n",
    "    total_raw_weight = sum(w for _, w in weights)\n",
    "\n",
    "    # Step 2: Normalize raw weights\n",
    "    normalized_weights = [\n",
    "        (dep, (w / total_raw_weight) * total_weight_cap) if total_raw_weight > 0 else (dep, 0.0)\n",
    "        for dep, w in weights\n",
    "    ]\n",
    "\n",
    "    # Step 3: Cap weights and calculate remaining weight\n",
    "    capped_weights = []\n",
    "    remaining_weight = total_weight_cap\n",
    "\n",
    "    for dep, weight in normalized_weights:\n",
    "        capped_weight = min(weight, max_edge_weight)\n",
    "        capped_weights.append((dep, capped_weight))\n",
    "        remaining_weight -= capped_weight\n",
    "\n",
    "    # Step 4: Redistribute remaining weight proportionally to uncapped edges\n",
    "    uncapped_edges = [(dep, weight) for dep, weight in capped_weights if weight < max_edge_weight]\n",
    "    uncapped_total = sum(weight for _, weight in uncapped_edges)\n",
    "\n",
    "    final_weights = []\n",
    "    for dep, capped_weight in capped_weights:\n",
    "        if uncapped_total > 0 and capped_weight < max_edge_weight:\n",
    "            additional_weight = (capped_weight / uncapped_total) * remaining_weight\n",
    "            new_weight = min(capped_weight + additional_weight, max_edge_weight)\n",
    "            final_weights.append((dep, new_weight))\n",
    "        else:\n",
    "            final_weights.append((dep, capped_weight))\n",
    "\n",
    "    # Step 5: Assign weights back to edges\n",
    "    for dep, weight in final_weights:\n",
    "        if G.has_edge(seed_node, dep):\n",
    "            G[seed_node][dep]['weight'] = weight"
   ]
  },
  {
   "cell_type": "code",
   "execution_count": null,
   "id": "c9585b82",
   "metadata": {},
   "outputs": [],
   "source": [
    "for seed_node in G.nodes():\n",
    "    outgoing_edges = [(v, G[seed_node][v]['weight']) for v in G.successors(seed_node) \n",
    "                      if 'weight' in G[seed_node][v]]\n",
    "    sorted_edges = sorted(outgoing_edges, key=lambda x: x[1], reverse=True)\n",
    "    if sorted_edges:\n",
    "        total_weights = sum([x[1] for x in sorted_edges])\n",
    "        print(f\"\\nSeed Node: {seed_node} | Weight: {1 - total_weights:.4f}\")\n",
    "        for i, (dep, weight) in enumerate(sorted_edges):\n",
    "            if i < 10:\n",
    "                print(f\"- Dependent: {dep} | Weight: {weight:.4f}\")"
   ]
  },
  {
   "cell_type": "markdown",
   "id": "ca0ba2cb",
   "metadata": {},
   "source": [
    "# Export the graph to JSON"
   ]
  },
  {
   "cell_type": "code",
   "execution_count": null,
   "id": "ff1284ab",
   "metadata": {},
   "outputs": [],
   "source": [
    "print(\"\\nLevel 1 Nodes (Sources) and Their Summed Edge Weights:\")\n",
    "source_weights = validate_weights(G)\n",
    "pd.Series(source_weights)"
   ]
  },
  {
   "cell_type": "code",
   "execution_count": 11,
   "id": "3495d8ce",
   "metadata": {},
   "outputs": [],
   "source": [
    "G_serializable = convert_graph_to_serializable(G)\n",
    "graph_json = nx.node_link_data(G_serializable)\n",
    "output_path = \"../../graph/weighting_examples/oso_forks_and_funding_weighted_graph.json\"\n",
    "with open(output_path, \"w\") as f:\n",
    "    json.dump(graph_json, f, indent=2)"
   ]
  }
 ],
 "metadata": {
  "kernelspec": {
   "display_name": "deepfunding-agent-bjmBbq7J-py3.11",
   "language": "python",
   "name": "python3"
  },
  "language_info": {
   "codemirror_mode": {
    "name": "ipython",
    "version": 3
   },
   "file_extension": ".py",
   "mimetype": "text/x-python",
   "name": "python",
   "nbconvert_exporter": "python",
   "pygments_lexer": "ipython3",
   "version": "3.11.5"
  }
 },
 "nbformat": 4,
 "nbformat_minor": 5
}
