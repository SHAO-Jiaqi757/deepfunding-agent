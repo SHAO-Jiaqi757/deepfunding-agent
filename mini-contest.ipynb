{
 "cells": [
  {
   "cell_type": "code",
   "execution_count": 2,
   "metadata": {},
   "outputs": [
    {
     "name": "stdout",
     "output_type": "stream",
     "text": [
      "   id                                          project_a  \\\n",
      "0   2  https://github.com/prettier-solidity/prettier-...   \n",
      "\n",
      "                                    project_b  weight_a  weight_b  \\\n",
      "0  https://github.com/nomicfoundation/hardhat  0.101669  0.898331   \n",
      "\n",
      "   agent_weight_a  agent_weight_b agent_trace_url  \n",
      "0        0.317076        0.682924             NaN  \n"
     ]
    }
   ],
   "source": [
    "import pandas as pd\n",
    "\n",
    "# Read the CSV file into a DataFrame\n",
    "df = pd.read_csv(\"mini-contest/dataset-agent.csv\")\n",
    "\n",
    "# Display the first few rows of the DataFrame\n",
    "print(df.head(1))\n",
    "\n"
   ]
  },
  {
   "cell_type": "code",
   "execution_count": 3,
   "metadata": {},
   "outputs": [],
   "source": [
    "def flatten_dict(d, parent_key=\"\", sep=\"_\"):\n",
    "    \"\"\"Flatten a nested dictionary into a single level dictionary with concatenated keys.\"\"\"\n",
    "    items = []\n",
    "    for k, v in d.items():\n",
    "        new_key = f\"{parent_key}{sep}{k}\" if parent_key else k\n",
    "        if isinstance(v, dict):\n",
    "            items.extend(flatten_dict(v, new_key, sep=sep).items())\n",
    "        else:\n",
    "            items.append((new_key, v))\n",
    "    return dict(items)"
   ]
  },
  {
   "cell_type": "code",
   "execution_count": 4,
   "metadata": {},
   "outputs": [
    {
     "name": "stdout",
     "output_type": "stream",
     "text": [
      "https://github.com/walletconnect/walletconnect-monorepo VS https://github.com/pnpm/cmd-shim\n",
      "funding_strategist Result: weight_a=0.4 weight_b=0.6 confidence=0.9 reasoning='Repo A has a strong community with a high contributor count and significant activity (commit count and active developers), indicating ongoing support and development. However, it faces challenges with a high number of open issues, suggesting potential sustainability risks. Repo B, despite having a larger star count, shows increasing funding momentum and activity with new contributors and consistent commits, which may indicate a growing project. Therefore, I recommend a balanced approach, favoring Repo B for its growth and funding trends while still supporting Repo A for its established utility.' metrics_used=['activeDeveloperCount6Months', 'commitCount6Months', 'contributorCount', 'starCount', 'total_funding_received_usd', 'total_funders_count']\n",
      "project_analyzer Result: weight_a=0.55 weight_b=0.45 confidence=0.85 reasoning=\"Repo A (WalletConnect) demonstrates a strong and active community, with a high star count of 9940 and a significant number of active developers (30) over the last six months. Its commit activity (1954 commits) and contributor engagement (257 new contributors) highlight its ongoing development and potential for sustainability. However, the project has a high number of opened issues (250) compared to closed ones (212), indicating some challenges in maintaining the project. \\n\\nIn contrast, Repo B (cmd-shim) has an impressive star count of 33951, indicating strong visibility and interest. Its commit count is higher (3697), and it has attracted a considerable number of new contributors (245). Despite having fewer active developers (5) and a lower number of forks (1892), the project's recent funding activity suggests a growing interest. However, the high number of opened issues (319) versus closed (193) raises concerns about its ability to manage ongoing development, similar to Repo A.\\n\\nOverall, Repo A has more active development and community engagement, which is crucial for long-term sustainability. However, Repo B has higher visibility and a larger user base, which can also drive growth. Given the need to balance immediate viability with long-term sustainability, I recommend a weight of 0.55 for Repo A and 0.45 for Repo B.\" metrics_used=['starCount', 'forkCount', 'activeDeveloperCount6Months', 'commitCount6Months', 'newContributorCount6Months', 'total_funding_received_usd', 'closedIssueCount6Months', 'openedIssueCount6Months']\n",
      "community_advocate Result: weight_a=0.55 weight_b=0.45 confidence=0.8 reasoning=\"Repo A, WalletConnect, has a strong presence in the crypto ecosystem, indicated by its high star count (9940) and considerable contributor activity (2869 total contributors). The number of active developers (30) and the substantial commit count (1954) over the past six months highlight its ongoing development and community engagement. However, it faces challenges, such as a high number of open issues (250) and closed issues (212), which suggests some project management difficulties. The funding it has received is relatively low considering its broad utility, indicating a potential sustainability crisis. \\n\\nIn contrast, Repo B, cmd-shim, has a significantly higher star count (33951), indicating a larger community interest. Even though it has fewer active developers (5), it has an impressive commit count (3697) and a higher number of new contributors (245) over the last six months compared to Repo A. The funding situation is also better for cmd-shim, with a higher funding received (147230.06 USD) and a recent influx of funds (14334.99 USD in six months). \\n\\nHowever, Repo B's lower active developer count implies potentially less ongoing engagement, which could affect its future sustainability, compared to WalletConnect's larger base of active contributors. Given these factors, I would assign weights favoring WalletConnect slightly due to its broader utility and community engagement potential despite its challenges. \\n\\nThus, I assign weights of 0.55 to Repo A and 0.45 to Repo B, reflecting Repo A's higher community involvement and future potential in the blockchain ecosystem, balanced against Repo B's current popularity and better funding situation.\" metrics_used=['activeDeveloperCount6Months', 'closedIssueCount6Months', 'commitCount6Months', 'contributorCount', 'forkCount', 'mergedPullRequestCount6Months', 'newContributorCount6Months', 'openedIssueCount6Months', 'starCount', 'total_funding_received_usd', 'total_funders_count']\n",
      "project_analyzer Result: weight_a=0.52 weight_b=0.48 confidence=0.9 reasoning=\"Repo A shows a significantly higher contributor count and active developer engagement, which indicates a healthy community and interest in the project. However, the high number of open issues (250) compared to closed issues (212) could reflect potential challenges in community engagement or sustainability, which might deter new contributors. The substantial funding received indicates that there is interest and belief in the project’s potential. In contrast, Repo B has a lower contributor count and active developer engagement, but it has a much higher star count and funding momentum, suggesting it is seen as more valuable by the community. However, it has also high open issues (319) compared to closed issues (193), which may hinder long-term sustainability if not addressed. Balancing these factors, while Repo A has stronger community engagement, Repo B has better funding prospects and visibility. Thus, the weights reflect a careful consideration of both immediate viability and long-term sustainability, giving Repo A a slight edge due to its community involvement but acknowledging Repo B's stronger funding metrics.\" metrics_used=['activeDeveloperCount6Months', 'closedIssueCount6Months', 'commitCount6Months', 'contributorCount', 'forkCount', 'starCount', 'total_funding_received_usd']\n",
      "community_advocate Result: weight_a=0.55 weight_b=0.45 confidence=0.8 reasoning='Repo A shows a high level of community engagement with a significant number of active developers (30) and contributors (2869). However, it also has many open issues (250) and closed issues (212), which indicates potential sustainability risks and community engagement challenges. The funding received is lower compared to its utility, suggesting a need for more resources to handle technical debt and improve community engagement. Repo B, while having a higher star count (33951) and a more robust funding profile (total funding received of 147230.06), also has a smaller active developer count (5) and a more significant number of open issues (319). This indicates potential coordination and sustainability challenges. The balance between established utility (Repo B) and community engagement potential (Repo A) leads to a weight favoring Repo A slightly, as it has a more active community despite its challenges. Thus, the weights are assigned as 0.55 for Repo A and 0.45 for Repo B.' metrics_used=['activeDeveloperCount6Months', 'closedIssueCount6Months', 'commitCount6Months', 'contributorCount', 'forkCount', 'starCount', 'total_funders_count', 'total_funding_received_usd']\n",
      "funding_strategist Result: weight_a=0.55 weight_b=0.45 confidence=0.8 reasoning=\"In analyzing Repo A and Repo B, several factors were considered. Repo A has a high star count (9940) and a significant number of contributors (2869), indicating strong community interest and engagement. However, it also has a high number of open issues (250) which could deter new contributors and indicate potential sustainability challenges. The project has not received funding in the last six months, which raises concerns about its long-term viability despite its utility. Repo B, on the other hand, has a higher star count (33951) and a strong funding momentum with nearly $15,000 received in the last six months, suggesting a more sustainable model. Its lower number of open issues (319) compared to closed issues (193) indicates better project health. Therefore, while Repo A shows strong community engagement, Repo B presents a more sustainable funding model, leading to the assigned weights favoring Repo A slightly due to its strong community engagement metrics while acknowledging Repo B's funding strengths.\" metrics_used=['starCount', 'forkCount', 'commitCount6Months', 'activeDeveloperCount6Months', 'closedIssueCount6Months', 'total_funding_received_usd', 'newContributorCount6Months']\n"
     ]
    },
    {
     "ename": "KeyError",
     "evalue": "'weights'",
     "output_type": "error",
     "traceback": [
      "\u001b[0;31m---------------------------------------------------------------------------\u001b[0m",
      "\u001b[0;31mKeyError\u001b[0m                                  Traceback (most recent call last)",
      "Cell \u001b[0;32mIn[4], line 39\u001b[0m\n\u001b[1;32m     36\u001b[0m     df\u001b[38;5;241m.\u001b[39mat[i, key] \u001b[38;5;241m=\u001b[39m value\n\u001b[1;32m     38\u001b[0m \u001b[38;5;66;03m# Keep the original weight assignments for compatibility\u001b[39;00m\n\u001b[0;32m---> 39\u001b[0m df\u001b[38;5;241m.\u001b[39mat[i, \u001b[38;5;124m\"\u001b[39m\u001b[38;5;124magent_weight_a\u001b[39m\u001b[38;5;124m\"\u001b[39m] \u001b[38;5;241m=\u001b[39m \u001b[43magent_result\u001b[49m\u001b[43m[\u001b[49m\u001b[38;5;124;43m\"\u001b[39;49m\u001b[38;5;124;43mweights\u001b[39;49m\u001b[38;5;124;43m\"\u001b[39;49m\u001b[43m]\u001b[49m[repo_a_url]\n\u001b[1;32m     40\u001b[0m df\u001b[38;5;241m.\u001b[39mat[i, \u001b[38;5;124m\"\u001b[39m\u001b[38;5;124magent_weight_b\u001b[39m\u001b[38;5;124m\"\u001b[39m] \u001b[38;5;241m=\u001b[39m agent_result[\u001b[38;5;124m\"\u001b[39m\u001b[38;5;124mweights\u001b[39m\u001b[38;5;124m\"\u001b[39m][repo_b_url]\n\u001b[1;32m     41\u001b[0m df\u001b[38;5;241m.\u001b[39mat[i, \u001b[38;5;124m\"\u001b[39m\u001b[38;5;124magent_trace_url\u001b[39m\u001b[38;5;124m\"\u001b[39m] \u001b[38;5;241m=\u001b[39m agent_result[\u001b[38;5;124m\"\u001b[39m\u001b[38;5;124mtrace_url\u001b[39m\u001b[38;5;124m\"\u001b[39m]\n",
      "\u001b[0;31mKeyError\u001b[0m: 'weights'"
     ]
    }
   ],
   "source": [
    "# force a fresh import of the module, otherwise you need to restart the ipython kernel whenever you make changes to the deepfunding.py file\n",
    "import importlib\n",
    "import deepfunding\n",
    "importlib.reload(deepfunding)\n",
    "\n",
    "from deepfunding import run_comparison\n",
    "from tools.data_collection import fetch_oso_metrics\n",
    "\n",
    "# Initialize agent weight columns if they don't exist\n",
    "if 'agent_weight_a' not in df.columns:\n",
    "    df['agent_weight_a'] = None\n",
    "if 'agent_weight_b' not in df.columns:\n",
    "    df['agent_weight_b'] = None\n",
    "if 'agent_trace_url' not in df.columns:\n",
    "    df['agent_trace_url'] = None\n",
    "\n",
    "for i in range(len(df)):\n",
    "    if pd.notnull(df.at[i, 'agent_weight_a']) and pd.notnull(df.at[i, 'agent_weight_b']):\n",
    "        continue\n",
    "\n",
    "    repo_a_url = df.iloc[i][\"project_a\"]\n",
    "    repo_b_url = df.iloc[i][\"project_b\"]\n",
    "    print(f\"{repo_a_url} VS {repo_b_url}\")\n",
    "    repo_a = { \"url\": repo_a_url }\n",
    "    repo_b = { \"url\": repo_b_url }\n",
    "\n",
    "    agent_result = run_comparison(repo_a, repo_b)\n",
    "    flat_result = flatten_dict(agent_result)\n",
    "\n",
    "    # Write all flattened keys to DataFrame\n",
    "    for key, value in flat_result.items():\n",
    "        # Create column if it doesn't exist\n",
    "        if key not in df.columns:\n",
    "            df[key] = None\n",
    "\n",
    "        df.at[i, key] = value\n",
    "\n",
    "    # Keep the original weight assignments for compatibility\n",
    "    df.at[i, \"agent_weight_a\"] = agent_result[\"weights\"][repo_a_url]\n",
    "    df.at[i, \"agent_weight_b\"] = agent_result[\"weights\"][repo_b_url]\n",
    "    df.at[i, \"agent_trace_url\"] = agent_result[\"trace_url\"]\n",
    "\n",
    "    print(f\"Agent: {df.iloc[i]['agent_weight_a']} {df.iloc[i]['agent_weight_b']}\")\n",
    "    print(f\"Human: {df.iloc[i]['weight_a']} {df.iloc[i]['weight_b']}\")\n",
    "    print(f\"Check details here: {df.iloc[i]['agent_trace_url']}\")\n",
    "    df.to_csv(\"mini-contest/dataset-agent.csv\", index=False)"
   ]
  }
 ],
 "metadata": {
  "kernelspec": {
   "display_name": "deepfunding-agent-bjmBbq7J-py3.11",
   "language": "python",
   "name": "python3"
  },
  "language_info": {
   "codemirror_mode": {
    "name": "ipython",
    "version": 3
   },
   "file_extension": ".py",
   "mimetype": "text/x-python",
   "name": "python",
   "nbconvert_exporter": "python",
   "pygments_lexer": "ipython3",
   "version": "3.11.5"
  }
 },
 "nbformat": 4,
 "nbformat_minor": 2
}
